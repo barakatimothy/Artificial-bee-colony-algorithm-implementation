{
  "nbformat": 4,
  "nbformat_minor": 0,
  "metadata": {
    "colab": {
      "private_outputs": true,
      "provenance": [],
      "toc_visible": true,
      "cell_execution_strategy": "setup",
      "authorship_tag": "ABX9TyM0LWNvxNf3XGykSa0GyCmj",
      "include_colab_link": true
    },
    "kernelspec": {
      "name": "python3",
      "display_name": "Python 3"
    },
    "language_info": {
      "name": "python"
    }
  },
  "cells": [
    {
      "cell_type": "markdown",
      "metadata": {
        "id": "view-in-github",
        "colab_type": "text"
      },
      "source": [
        "<a href=\"https://colab.research.google.com/github/barakatimothy/Artificial-bee-colony-algorithm-implementation/blob/main/portfolio.ipynb\" target=\"_parent\"><img src=\"https://colab.research.google.com/assets/colab-badge.svg\" alt=\"Open In Colab\"/></a>"
      ]
    },
    {
      "cell_type": "code",
      "execution_count": null,
      "metadata": {
        "id": "MggIKg73cMLM"
      },
      "outputs": [],
      "source": [
        "!pip install yfinance numpy pandas scikit-learn xgboost"
      ]
    },
    {
      "cell_type": "code",
      "source": [
        "import numpy as np\n",
        "import pandas as pd\n",
        "import yfinance as yf\n",
        "from xgboost import XGBRegressor\n",
        "from sklearn.model_selection import train_test_split\n",
        "from sklearn.preprocessing import StandardScaler\n"
      ],
      "metadata": {
        "id": "pdqS4a42cRd5"
      },
      "execution_count": null,
      "outputs": []
    },
    {
      "source": [
        "# Download stock data\n",
        "tickers = [\"AAPL\", \"MSFT\", \"GOOGL\", \"AMZN\", \"TSLA\"]\n",
        "data = yf.download(tickers, start=\"2020-01-01\", end=\"2024-01-01\")"
      ],
      "cell_type": "code",
      "metadata": {
        "id": "GE4Z-sG7ceQG"
      },
      "execution_count": null,
      "outputs": []
    },
    {
      "cell_type": "code",
      "source": [
        "simple_return = data.pct_change().dropna()[\"Close\"]\n",
        "simple_return"
      ],
      "metadata": {
        "id": "F8P5EfZkp6K8"
      },
      "execution_count": null,
      "outputs": []
    },
    {
      "cell_type": "code",
      "source": [
        "# Correct the order of variables returned by train_test_split\n",
        "x_train, X_test, y_train, Y_test = train_test_split(X, Y, test_size=0.2, shuffle=False)\n",
        "# Train XGBoost Regressor for each stock\n",
        "models = {}\n",
        "predicted_returns = {}\n",
        "\n",
        "for stock in tickers:\n",
        "    model = XGBRegressor(objective=\"reg:squarederror\", n_estimators=100)\n",
        "    # Now using the correct training data and labels\n",
        "    model.fit(x_train, y_train[stock])\n",
        "    models[stock] = model\n",
        "    # Predict on the correct test data\n",
        "    predicted_returns[stock] = model.predict(X_test)  # Get predicted return"
      ],
      "metadata": {
        "id": "1IYcX6dhrajF"
      },
      "execution_count": null,
      "outputs": []
    },
    {
      "cell_type": "code",
      "source": [
        "class ABCPortfolioOptimizer:\n",
        "    def __init__(self, assets, predicted_returns, pop_size=30, max_iter=100):\n",
        "        self.assets = assets\n",
        "        self.predicted_returns = predicted_returns\n",
        "        self.pop_size = pop_size\n",
        "        self.max_iter = max_iter\n",
        "        self.portfolios = np.random.dirichlet(np.ones(len(assets)), size=pop_size)\n",
        "        # Calculate and store returns during initialization\n",
        "        self.returns = simple_return[self.assets]\n",
        "\n",
        "    def fitness(self, weights):\n",
        "        \"\"\"Objective function: Maximize Sharpe Ratio\"\"\"\n",
        "        portfolio_return = np.dot(weights, self.predicted_returns)\n",
        "        # Use self.returns for risk calculation\n",
        "        portfolio_risk = np.sqrt(np.dot(weights.T, np.cov(self.returns.T) @ weights))\n",
        "        sharpe_ratio = portfolio_return / portfolio_risk if portfolio_risk > 0 else 0\n",
        "        # Ensure sharpe_ratio is non-negative\n",
        "        return max(0, sharpe_ratio)  # Clip negative values to 0\n",
        "\n",
        "    def employ_bees(self):\n",
        "        \"\"\"Employed bees improve their solutions.\"\"\"\n",
        "        for i in range(self.pop_size):\n",
        "            new_portfolio = self.portfolios[i] + np.random.uniform(-0.1, 0.1, len(self.assets))\n",
        "            new_portfolio = np.clip(new_portfolio, 0, 1)  # Keep weights valid\n",
        "            new_portfolio /= new_portfolio.sum()  # Normalize\n",
        "            if self.fitness(new_portfolio) > self.fitness(self.portfolios[i]):\n",
        "                self.portfolios[i] = new_portfolio\n",
        "\n",
        "    def onlooker_bees(self):\n",
        "        \"\"\"Onlooker bees exploit good solutions.\"\"\"\n",
        "        fitness_values = np.array([self.fitness(p) for p in self.portfolios])\n",
        "        # Replace zeros with small positive values to avoid division by zero\n",
        "        fitness_values = np.where(fitness_values == 0, 1e-10, fitness_values)\n",
        "        probabilities = fitness_values / fitness_values.sum()\n",
        "        for i in range(self.pop_size):\n",
        "            selected = np.random.choice(self.pop_size, p=probabilities)\n",
        "            new_portfolio = self.portfolios[selected] + np.random.uniform(-0.05, 0.05, len(self.assets))\n",
        "            new_portfolio = np.clip(new_portfolio, 0, 1)\n",
        "            new_portfolio /= new_portfolio.sum()\n",
        "            if self.fitness(new_portfolio) > self.fitness(self.portfolios[selected]):\n",
        "                self.portfolios[selected] = new_portfolio\n",
        "\n",
        "    def scout_bees(self):\n",
        "        \"\"\"Scout bees introduce diversity by replacing bad solutions.\"\"\"\n",
        "        worst_index = np.argmin([self.fitness(p) for p in self.portfolios])\n",
        "        self.portfolios[worst_index] = np.random.dirichlet(np.ones(len(self.assets)))\n",
        "\n",
        "    def optimize(self):\n",
        "        \"\"\"Run the ABC algorithm.\"\"\"\n",
        "        best_portfolio = None\n",
        "        best_fitness = -np.inf\n",
        "\n",
        "        for _ in range(self.max_iter):\n",
        "            self.employ_bees()\n",
        "            self.onlooker_bees()\n",
        "            self.scout_bees()\n",
        "\n",
        "            # Track the best solution\n",
        "            current_best = max(self.portfolios, key=self.fitness)\n",
        "            current_fitness = self.fitness(current_best)\n",
        "            if current_fitness > best_fitness:\n",
        "                best_fitness = current_fitness\n",
        "                best_portfolio = current_best\n",
        "\n",
        "        return best_portfolio, best_fitness"
      ],
      "metadata": {
        "id": "iEJ8mi0RvCXU"
      },
      "execution_count": null,
      "outputs": []
    },
    {
      "cell_type": "code",
      "source": [
        "# Get average predicted returns\n",
        "mean_predicted_returns = np.array([np.mean(predicted_returns[stock]) for stock in tickers])\n",
        "\n",
        "# Run ABC optimization\n",
        "abc_optimizer = ABCPortfolioOptimizer(tickers, mean_predicted_returns, pop_size=50, max_iter=200)\n",
        "best_portfolio, best_sharpe = abc_optimizer.optimize()\n",
        "\n",
        "# Display results\n",
        "print(\"Optimal Portfolio Weights:\")\n",
        "for stock, weight in zip(tickers, best_portfolio):\n",
        "    print(f\"{stock}: {weight:.4f}\")\n",
        "\n",
        "print(f\"Maximized Sharpe Ratio: {best_sharpe:.4f}\")\n"
      ],
      "metadata": {
        "id": "om-X7h7ZucwP"
      },
      "execution_count": null,
      "outputs": []
    }
  ]
}